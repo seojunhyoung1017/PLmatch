{
 "cells": [
  {
   "cell_type": "markdown",
   "metadata": {},
   "source": [
    "### INF 510 Fall 2020 Final Project Submission"
   ]
  },
  {
   "cell_type": "markdown",
   "metadata": {},
   "source": [
    "1.\t**Your name**\n",
    "    \n",
    "    Junhyoung Seo"
   ]
  },
  {
   "cell_type": "markdown",
   "metadata": {},
   "source": [
    "2. **Any major \"gotchas\" to the code (i.e. things that don't work, go slowly, could be improved, etc.)**\n",
    "\n",
    "    When running the file JUNHYOUNG_SEO_proj2.py, it did not take a long time to extract data via web web-scraping and using google_geolocation API; however, it took a long time to extract data using weather API. I think I can optimize my coding a little more to reduce the response time of this API.\n",
    "    \n",
    "    Also, I scraped all the match results provided by the BBC sport webpage, but I felt that my data amount was small to show valid results during this data analysis. Therefore, if older Premier Leauge match data can be added, this project can proceed with meaningful analysis.\n"
   ]
  },
  {
   "cell_type": "markdown",
   "metadata": {},
   "source": [
    "3. **Any libraries that need to be installed to run your code (see above)**\n",
    "\n",
    "    pandas, seaborn, requests, re, bs4, json, and datetime library"
   ]
  },
  {
   "cell_type": "markdown",
   "metadata": {},
   "source": [
    "4. **Anything else you feel is relevent to the grading of your project**\n",
    "\n",
    "    At first, I simply tried to analyze the weather and the number of goals, but as I proceeded with the data analysis, I was curious about the correlation between wind speed, humidity, temperature and the number of goals, so I modified the scraper a little bit. In milestone2, weather API simply brings weather, but I added code to bring temperature, wind speed, and humidity to weather data, which can be checked through the attached csv file."
   ]
  },
  {
   "cell_type": "markdown",
   "metadata": {},
   "source": [
    "5. **What did you set out to study? (i.e. what was the point of your project?  This should be close to your Milestone 1 assignment, but if you switched gears or changed things, note it here.)**\n",
    "\n",
    "    The purpose of the study was to identify the correlation between weather and the number of goals scored in soccer matches. As a soccer player, I felt that it was hard to score a goal in rainy weather, so I thought there must be a correlation. \n",
    "    \n",
    "    Because weather could not be quantified, the average number of goals for each category was calculated and visualized by a bar chart, and the correlation coefficient between wind speed, humidity, temperature and total number of goals was calculated and each regression model was visualized on the chart. "
   ]
  },
  {
   "cell_type": "markdown",
   "metadata": {},
   "source": [
    "6. **What did you Discover/what were your conclusions (i.e. what were your findings? Were your original assumptions confirmed, etc.?)**\n",
    "\n",
    "    For the correlation test, three methods were used: Pears, Kendall, Spearman, the largest value of the correlation coefficient is as follows:\n",
    "    \n",
    "    temperature - total goals : 0.037667\n",
    "    \n",
    "    humidity - total goals : -0.078114\n",
    "    \n",
    "    wind speed - total goals : -0.021495\n",
    "    \n",
    "    These values are the largest of the three methods, but they are too small to verify the correlation between the two variables.\n",
    "    \n",
    "    Thus, my conclusion is that wind speed, humidity, and temperature have no significant correlation with total goals in soccer matches.\n",
    "    \n",
    "    The bottom bar chart indicates the average number of goals by weather. 'Thunder' category should be excluded because the number of data is two. The average number of goals when the weather is 'shower' is higher than when the weather is 'clear'. This also indicates that my prediction is not valid.\n",
    "    \n",
    "    Maybe the number of goals has to do with the strength of team squad....\n",
    "    \n",
    "\n",
    "    "
   ]
  },
  {
   "cell_type": "markdown",
   "metadata": {},
   "source": [
    "7. **What difficulties did you have in completing the proejct?**\n",
    "\n",
    "    Firstly, It was difficult to determine which statistical tests to proceed with. Because the class was focused on how to code the process of obtaining data through web-scraping and API, I didn't know what statistical tests to run on the final data, what statistical results to derive, so I had to study more regarding them.\n",
    "    \n",
    "    Also, there were many errors in coding the scrapper, and it was difficult to correct the code through numerous trial and error, and to deal with exception handling.\n",
    "    \n",
    "    Lastly, It was hard for me to find the result too different from my expectation. I expected that the weather and the number of goals would be somewhat correlated, but I was disappointed that I could not find any correlation. Perhaps I can do a more effective analysis by increasing the size of the data."
   ]
  },
  {
   "cell_type": "markdown",
   "metadata": {},
   "source": [
    "8. **What skills did you wish you had while you were doing the project?**\n",
    "\n",
    "    To be honest, it was really hard to extract the desired data at the web-scaping stage and I had almost given up. I just wanted to extract the number of goals and the name of the home team from the web page; however, it was challenging to detect only the values I wanted in the html structure. Therefore, during the project, I wanted to have the ability to quickly find only the results I wanted in the html structure and dataize them.\n"
   ]
  },
  {
   "cell_type": "markdown",
   "metadata": {},
   "source": [
    "9. **What would you do \"next\" to expand or augment the project?**\n",
    "\n",
    "    As I said above, I would like to analyze data by adding older past data. Also, I would like to further analyze the correlation between the number of goals and the stadium.\n"
   ]
  },
  {
   "cell_type": "code",
   "execution_count": 1,
   "metadata": {},
   "outputs": [],
   "source": [
    "import pandas as pd\n",
    "import seaborn as sns"
   ]
  },
  {
   "cell_type": "code",
   "execution_count": 2,
   "metadata": {},
   "outputs": [],
   "source": [
    "# call the data\n",
    "match_data = pd.read_csv('match_data.csv')\n",
    "geocode_data = pd.read_csv('geocode_data.csv')\n",
    "weather_data = pd.read_csv('weather_data.csv')\n",
    "final_data = pd.read_csv('final_data.csv')"
   ]
  },
  {
   "cell_type": "code",
   "execution_count": 3,
   "metadata": {},
   "outputs": [],
   "source": [
    "# remove meaningless column\n",
    "del match_data['Unnamed: 0']\n",
    "del geocode_data['Unnamed: 0']\n",
    "del weather_data['Unnamed: 0']\n",
    "del final_data ['Unnamed: 0']"
   ]
  },
  {
   "cell_type": "code",
   "execution_count": 4,
   "metadata": {},
   "outputs": [
    {
     "data": {
      "text/html": [
       "<div>\n",
       "<style scoped>\n",
       "    .dataframe tbody tr th:only-of-type {\n",
       "        vertical-align: middle;\n",
       "    }\n",
       "\n",
       "    .dataframe tbody tr th {\n",
       "        vertical-align: top;\n",
       "    }\n",
       "\n",
       "    .dataframe thead th {\n",
       "        text-align: right;\n",
       "    }\n",
       "</style>\n",
       "<table border=\"1\" class=\"dataframe\">\n",
       "  <thead>\n",
       "    <tr style=\"text-align: right;\">\n",
       "      <th></th>\n",
       "      <th>match_date</th>\n",
       "      <th>home_team</th>\n",
       "      <th>total_goals</th>\n",
       "    </tr>\n",
       "  </thead>\n",
       "  <tbody>\n",
       "    <tr>\n",
       "      <th>0</th>\n",
       "      <td>2019/12/29</td>\n",
       "      <td>Arsenal</td>\n",
       "      <td>3</td>\n",
       "    </tr>\n",
       "    <tr>\n",
       "      <th>1</th>\n",
       "      <td>2019/12/29</td>\n",
       "      <td>Liverpool</td>\n",
       "      <td>1</td>\n",
       "    </tr>\n",
       "    <tr>\n",
       "      <th>2</th>\n",
       "      <td>2019/12/29</td>\n",
       "      <td>Manchester City</td>\n",
       "      <td>2</td>\n",
       "    </tr>\n",
       "    <tr>\n",
       "      <th>3</th>\n",
       "      <td>2019/12/28</td>\n",
       "      <td>Brighton &amp; Hove Albion</td>\n",
       "      <td>2</td>\n",
       "    </tr>\n",
       "    <tr>\n",
       "      <th>4</th>\n",
       "      <td>2019/12/28</td>\n",
       "      <td>Newcastle United</td>\n",
       "      <td>3</td>\n",
       "    </tr>\n",
       "    <tr>\n",
       "      <th>5</th>\n",
       "      <td>2019/12/28</td>\n",
       "      <td>Southampton</td>\n",
       "      <td>2</td>\n",
       "    </tr>\n",
       "    <tr>\n",
       "      <th>6</th>\n",
       "      <td>2019/12/28</td>\n",
       "      <td>Watford</td>\n",
       "      <td>3</td>\n",
       "    </tr>\n",
       "    <tr>\n",
       "      <th>7</th>\n",
       "      <td>2019/12/28</td>\n",
       "      <td>Norwich City</td>\n",
       "      <td>4</td>\n",
       "    </tr>\n",
       "    <tr>\n",
       "      <th>8</th>\n",
       "      <td>2019/12/28</td>\n",
       "      <td>West Ham United</td>\n",
       "      <td>3</td>\n",
       "    </tr>\n",
       "    <tr>\n",
       "      <th>9</th>\n",
       "      <td>2019/12/28</td>\n",
       "      <td>Burnley</td>\n",
       "      <td>2</td>\n",
       "    </tr>\n",
       "  </tbody>\n",
       "</table>\n",
       "</div>"
      ],
      "text/plain": [
       "   match_date               home_team  total_goals\n",
       "0  2019/12/29                 Arsenal            3\n",
       "1  2019/12/29               Liverpool            1\n",
       "2  2019/12/29         Manchester City            2\n",
       "3  2019/12/28  Brighton & Hove Albion            2\n",
       "4  2019/12/28        Newcastle United            3\n",
       "5  2019/12/28             Southampton            2\n",
       "6  2019/12/28                 Watford            3\n",
       "7  2019/12/28            Norwich City            4\n",
       "8  2019/12/28         West Ham United            3\n",
       "9  2019/12/28                 Burnley            2"
      ]
     },
     "execution_count": 4,
     "metadata": {},
     "output_type": "execute_result"
    }
   ],
   "source": [
    "# let's look into match data\n",
    "match_data[:10]"
   ]
  },
  {
   "cell_type": "code",
   "execution_count": 5,
   "metadata": {},
   "outputs": [
    {
     "data": {
      "text/html": [
       "<div>\n",
       "<style scoped>\n",
       "    .dataframe tbody tr th:only-of-type {\n",
       "        vertical-align: middle;\n",
       "    }\n",
       "\n",
       "    .dataframe tbody tr th {\n",
       "        vertical-align: top;\n",
       "    }\n",
       "\n",
       "    .dataframe thead th {\n",
       "        text-align: right;\n",
       "    }\n",
       "</style>\n",
       "<table border=\"1\" class=\"dataframe\">\n",
       "  <thead>\n",
       "    <tr style=\"text-align: right;\">\n",
       "      <th></th>\n",
       "      <th>team_name</th>\n",
       "      <th>stadium</th>\n",
       "      <th>lat/long</th>\n",
       "    </tr>\n",
       "  </thead>\n",
       "  <tbody>\n",
       "    <tr>\n",
       "      <th>0</th>\n",
       "      <td>Arsenal</td>\n",
       "      <td>Emirates Stadium</td>\n",
       "      <td>(51.5548885, -0.108438)</td>\n",
       "    </tr>\n",
       "    <tr>\n",
       "      <th>1</th>\n",
       "      <td>Aston Villa</td>\n",
       "      <td>Villa Park</td>\n",
       "      <td>(41.8897519, -87.98895429999999)</td>\n",
       "    </tr>\n",
       "    <tr>\n",
       "      <th>2</th>\n",
       "      <td>Brighton &amp; Hove Albion</td>\n",
       "      <td>Falmer Stadium</td>\n",
       "      <td>(50.8615651, -0.0837163)</td>\n",
       "    </tr>\n",
       "    <tr>\n",
       "      <th>3</th>\n",
       "      <td>Burnley</td>\n",
       "      <td>Turf Moor</td>\n",
       "      <td>(53.7886839, -2.2303478)</td>\n",
       "    </tr>\n",
       "    <tr>\n",
       "      <th>4</th>\n",
       "      <td>Chelsea</td>\n",
       "      <td>Stamford Bridge</td>\n",
       "      <td>(51.481663, -0.1909565)</td>\n",
       "    </tr>\n",
       "    <tr>\n",
       "      <th>5</th>\n",
       "      <td>Crystal Palace</td>\n",
       "      <td>Selhurst Park</td>\n",
       "      <td>(51.39797429999999, -0.0860576)</td>\n",
       "    </tr>\n",
       "    <tr>\n",
       "      <th>6</th>\n",
       "      <td>Everton</td>\n",
       "      <td>Goodison Park</td>\n",
       "      <td>(53.438787, -2.9663193)</td>\n",
       "    </tr>\n",
       "    <tr>\n",
       "      <th>7</th>\n",
       "      <td>Fulham</td>\n",
       "      <td>Craven Cottage</td>\n",
       "      <td>(51.4748946, -0.2217799)</td>\n",
       "    </tr>\n",
       "    <tr>\n",
       "      <th>8</th>\n",
       "      <td>Leeds United</td>\n",
       "      <td>Elland Road</td>\n",
       "      <td>(53.7778162, -1.5721446)</td>\n",
       "    </tr>\n",
       "    <tr>\n",
       "      <th>9</th>\n",
       "      <td>Leicester City</td>\n",
       "      <td>King Power Stadium</td>\n",
       "      <td>(52.6203662, -1.1421895)</td>\n",
       "    </tr>\n",
       "  </tbody>\n",
       "</table>\n",
       "</div>"
      ],
      "text/plain": [
       "                team_name             stadium  \\\n",
       "0                 Arsenal    Emirates Stadium   \n",
       "1             Aston Villa          Villa Park   \n",
       "2  Brighton & Hove Albion      Falmer Stadium   \n",
       "3                 Burnley           Turf Moor   \n",
       "4                 Chelsea     Stamford Bridge   \n",
       "5          Crystal Palace       Selhurst Park   \n",
       "6                 Everton       Goodison Park   \n",
       "7                  Fulham      Craven Cottage   \n",
       "8            Leeds United         Elland Road   \n",
       "9          Leicester City  King Power Stadium   \n",
       "\n",
       "                           lat/long  \n",
       "0           (51.5548885, -0.108438)  \n",
       "1  (41.8897519, -87.98895429999999)  \n",
       "2          (50.8615651, -0.0837163)  \n",
       "3          (53.7886839, -2.2303478)  \n",
       "4           (51.481663, -0.1909565)  \n",
       "5   (51.39797429999999, -0.0860576)  \n",
       "6           (53.438787, -2.9663193)  \n",
       "7          (51.4748946, -0.2217799)  \n",
       "8          (53.7778162, -1.5721446)  \n",
       "9          (52.6203662, -1.1421895)  "
      ]
     },
     "execution_count": 5,
     "metadata": {},
     "output_type": "execute_result"
    }
   ],
   "source": [
    "# let's look into geocode data\n",
    "geocode_data[:10]"
   ]
  },
  {
   "cell_type": "code",
   "execution_count": 6,
   "metadata": {},
   "outputs": [
    {
     "data": {
      "text/html": [
       "<div>\n",
       "<style scoped>\n",
       "    .dataframe tbody tr th:only-of-type {\n",
       "        vertical-align: middle;\n",
       "    }\n",
       "\n",
       "    .dataframe tbody tr th {\n",
       "        vertical-align: top;\n",
       "    }\n",
       "\n",
       "    .dataframe thead th {\n",
       "        text-align: right;\n",
       "    }\n",
       "</style>\n",
       "<table border=\"1\" class=\"dataframe\">\n",
       "  <thead>\n",
       "    <tr style=\"text-align: right;\">\n",
       "      <th></th>\n",
       "      <th>lat/long</th>\n",
       "      <th>woeid</th>\n",
       "      <th>date</th>\n",
       "      <th>weather</th>\n",
       "      <th>temperature</th>\n",
       "      <th>wind_speed</th>\n",
       "      <th>humidity</th>\n",
       "    </tr>\n",
       "  </thead>\n",
       "  <tbody>\n",
       "    <tr>\n",
       "      <th>0</th>\n",
       "      <td>51.5548885,-0.108438</td>\n",
       "      <td>44418</td>\n",
       "      <td>2019/12/29</td>\n",
       "      <td>Light Cloud</td>\n",
       "      <td>7.335</td>\n",
       "      <td>4.667821</td>\n",
       "      <td>83</td>\n",
       "    </tr>\n",
       "    <tr>\n",
       "      <th>1</th>\n",
       "      <td>53.4308294,-2.96083</td>\n",
       "      <td>26734</td>\n",
       "      <td>2019/12/29</td>\n",
       "      <td>Heavy Cloud</td>\n",
       "      <td>7.960</td>\n",
       "      <td>7.458091</td>\n",
       "      <td>89</td>\n",
       "    </tr>\n",
       "    <tr>\n",
       "      <th>2</th>\n",
       "      <td>53.48313810000001,-2.2003953</td>\n",
       "      <td>28218</td>\n",
       "      <td>2019/12/29</td>\n",
       "      <td>Heavy Cloud</td>\n",
       "      <td>6.165</td>\n",
       "      <td>4.484736</td>\n",
       "      <td>84</td>\n",
       "    </tr>\n",
       "    <tr>\n",
       "      <th>3</th>\n",
       "      <td>50.8615651,-0.0837163</td>\n",
       "      <td>13911</td>\n",
       "      <td>2019/12/28</td>\n",
       "      <td>Heavy Cloud</td>\n",
       "      <td>8.750</td>\n",
       "      <td>5.568398</td>\n",
       "      <td>90</td>\n",
       "    </tr>\n",
       "    <tr>\n",
       "      <th>4</th>\n",
       "      <td>40.86502369999999,-73.89777269999999</td>\n",
       "      <td>2459115</td>\n",
       "      <td>2019/12/28</td>\n",
       "      <td>Heavy Cloud</td>\n",
       "      <td>7.090</td>\n",
       "      <td>4.056700</td>\n",
       "      <td>69</td>\n",
       "    </tr>\n",
       "    <tr>\n",
       "      <th>5</th>\n",
       "      <td>37.8416782,-122.1055344</td>\n",
       "      <td>2463583</td>\n",
       "      <td>2019/12/28</td>\n",
       "      <td>Clear</td>\n",
       "      <td>13.880</td>\n",
       "      <td>1.837823</td>\n",
       "      <td>62</td>\n",
       "    </tr>\n",
       "    <tr>\n",
       "      <th>6</th>\n",
       "      <td>51.6499059,-0.401525</td>\n",
       "      <td>44418</td>\n",
       "      <td>2019/12/28</td>\n",
       "      <td>Heavy Cloud</td>\n",
       "      <td>8.740</td>\n",
       "      <td>3.352007</td>\n",
       "      <td>87</td>\n",
       "    </tr>\n",
       "    <tr>\n",
       "      <th>7</th>\n",
       "      <td>52.6221535,1.3093062</td>\n",
       "      <td>30704</td>\n",
       "      <td>2019/12/28</td>\n",
       "      <td>Heavy Cloud</td>\n",
       "      <td>8.290</td>\n",
       "      <td>5.975138</td>\n",
       "      <td>89</td>\n",
       "    </tr>\n",
       "    <tr>\n",
       "      <th>8</th>\n",
       "      <td>51.5387095,-0.0166037</td>\n",
       "      <td>44418</td>\n",
       "      <td>2019/12/28</td>\n",
       "      <td>Heavy Cloud</td>\n",
       "      <td>8.740</td>\n",
       "      <td>3.352007</td>\n",
       "      <td>87</td>\n",
       "    </tr>\n",
       "    <tr>\n",
       "      <th>9</th>\n",
       "      <td>53.7886839,-2.2303478</td>\n",
       "      <td>13527</td>\n",
       "      <td>2019/12/28</td>\n",
       "      <td>Heavy Cloud</td>\n",
       "      <td>8.610</td>\n",
       "      <td>3.110743</td>\n",
       "      <td>88</td>\n",
       "    </tr>\n",
       "  </tbody>\n",
       "</table>\n",
       "</div>"
      ],
      "text/plain": [
       "                               lat/long    woeid        date      weather  \\\n",
       "0                  51.5548885,-0.108438    44418  2019/12/29  Light Cloud   \n",
       "1                   53.4308294,-2.96083    26734  2019/12/29  Heavy Cloud   \n",
       "2          53.48313810000001,-2.2003953    28218  2019/12/29  Heavy Cloud   \n",
       "3                 50.8615651,-0.0837163    13911  2019/12/28  Heavy Cloud   \n",
       "4  40.86502369999999,-73.89777269999999  2459115  2019/12/28  Heavy Cloud   \n",
       "5               37.8416782,-122.1055344  2463583  2019/12/28        Clear   \n",
       "6                  51.6499059,-0.401525    44418  2019/12/28  Heavy Cloud   \n",
       "7                  52.6221535,1.3093062    30704  2019/12/28  Heavy Cloud   \n",
       "8                 51.5387095,-0.0166037    44418  2019/12/28  Heavy Cloud   \n",
       "9                 53.7886839,-2.2303478    13527  2019/12/28  Heavy Cloud   \n",
       "\n",
       "   temperature  wind_speed  humidity  \n",
       "0        7.335    4.667821        83  \n",
       "1        7.960    7.458091        89  \n",
       "2        6.165    4.484736        84  \n",
       "3        8.750    5.568398        90  \n",
       "4        7.090    4.056700        69  \n",
       "5       13.880    1.837823        62  \n",
       "6        8.740    3.352007        87  \n",
       "7        8.290    5.975138        89  \n",
       "8        8.740    3.352007        87  \n",
       "9        8.610    3.110743        88  "
      ]
     },
     "execution_count": 6,
     "metadata": {},
     "output_type": "execute_result"
    }
   ],
   "source": [
    "# let's look into weather data\n",
    "weather_data[:10]"
   ]
  },
  {
   "cell_type": "code",
   "execution_count": 7,
   "metadata": {},
   "outputs": [
    {
     "data": {
      "text/html": [
       "<div>\n",
       "<style scoped>\n",
       "    .dataframe tbody tr th:only-of-type {\n",
       "        vertical-align: middle;\n",
       "    }\n",
       "\n",
       "    .dataframe tbody tr th {\n",
       "        vertical-align: top;\n",
       "    }\n",
       "\n",
       "    .dataframe thead th {\n",
       "        text-align: right;\n",
       "    }\n",
       "</style>\n",
       "<table border=\"1\" class=\"dataframe\">\n",
       "  <thead>\n",
       "    <tr style=\"text-align: right;\">\n",
       "      <th></th>\n",
       "      <th>weather</th>\n",
       "      <th>temperature</th>\n",
       "      <th>wind_speed</th>\n",
       "      <th>humidity</th>\n",
       "      <th>total_goals</th>\n",
       "    </tr>\n",
       "  </thead>\n",
       "  <tbody>\n",
       "    <tr>\n",
       "      <th>0</th>\n",
       "      <td>Light Cloud</td>\n",
       "      <td>7.335</td>\n",
       "      <td>4.667821</td>\n",
       "      <td>83</td>\n",
       "      <td>3</td>\n",
       "    </tr>\n",
       "    <tr>\n",
       "      <th>1</th>\n",
       "      <td>Heavy Cloud</td>\n",
       "      <td>7.960</td>\n",
       "      <td>7.458091</td>\n",
       "      <td>89</td>\n",
       "      <td>1</td>\n",
       "    </tr>\n",
       "    <tr>\n",
       "      <th>2</th>\n",
       "      <td>Heavy Cloud</td>\n",
       "      <td>6.165</td>\n",
       "      <td>4.484736</td>\n",
       "      <td>84</td>\n",
       "      <td>2</td>\n",
       "    </tr>\n",
       "    <tr>\n",
       "      <th>3</th>\n",
       "      <td>Heavy Cloud</td>\n",
       "      <td>8.750</td>\n",
       "      <td>5.568398</td>\n",
       "      <td>90</td>\n",
       "      <td>2</td>\n",
       "    </tr>\n",
       "    <tr>\n",
       "      <th>4</th>\n",
       "      <td>Heavy Cloud</td>\n",
       "      <td>7.090</td>\n",
       "      <td>4.056700</td>\n",
       "      <td>69</td>\n",
       "      <td>3</td>\n",
       "    </tr>\n",
       "    <tr>\n",
       "      <th>5</th>\n",
       "      <td>Clear</td>\n",
       "      <td>13.880</td>\n",
       "      <td>1.837823</td>\n",
       "      <td>62</td>\n",
       "      <td>2</td>\n",
       "    </tr>\n",
       "    <tr>\n",
       "      <th>6</th>\n",
       "      <td>Heavy Cloud</td>\n",
       "      <td>8.740</td>\n",
       "      <td>3.352007</td>\n",
       "      <td>87</td>\n",
       "      <td>3</td>\n",
       "    </tr>\n",
       "    <tr>\n",
       "      <th>7</th>\n",
       "      <td>Heavy Cloud</td>\n",
       "      <td>8.290</td>\n",
       "      <td>5.975138</td>\n",
       "      <td>89</td>\n",
       "      <td>4</td>\n",
       "    </tr>\n",
       "    <tr>\n",
       "      <th>8</th>\n",
       "      <td>Heavy Cloud</td>\n",
       "      <td>8.740</td>\n",
       "      <td>3.352007</td>\n",
       "      <td>87</td>\n",
       "      <td>3</td>\n",
       "    </tr>\n",
       "    <tr>\n",
       "      <th>9</th>\n",
       "      <td>Heavy Cloud</td>\n",
       "      <td>8.610</td>\n",
       "      <td>3.110743</td>\n",
       "      <td>88</td>\n",
       "      <td>2</td>\n",
       "    </tr>\n",
       "  </tbody>\n",
       "</table>\n",
       "</div>"
      ],
      "text/plain": [
       "       weather  temperature  wind_speed  humidity  total_goals\n",
       "0  Light Cloud        7.335    4.667821        83            3\n",
       "1  Heavy Cloud        7.960    7.458091        89            1\n",
       "2  Heavy Cloud        6.165    4.484736        84            2\n",
       "3  Heavy Cloud        8.750    5.568398        90            2\n",
       "4  Heavy Cloud        7.090    4.056700        69            3\n",
       "5        Clear       13.880    1.837823        62            2\n",
       "6  Heavy Cloud        8.740    3.352007        87            3\n",
       "7  Heavy Cloud        8.290    5.975138        89            4\n",
       "8  Heavy Cloud        8.740    3.352007        87            3\n",
       "9  Heavy Cloud        8.610    3.110743        88            2"
      ]
     },
     "execution_count": 7,
     "metadata": {},
     "output_type": "execute_result"
    }
   ],
   "source": [
    "# let's look into final data\n",
    "final_data[:10]"
   ]
  },
  {
   "cell_type": "code",
   "execution_count": 8,
   "metadata": {},
   "outputs": [
    {
     "data": {
      "text/plain": [
       "<seaborn.axisgrid.FacetGrid at 0x22062eaa850>"
      ]
     },
     "execution_count": 8,
     "metadata": {},
     "output_type": "execute_result"
    },
    {
     "data": {
      "image/png": "[encoded data removed]",
      "text/plain": [
       "<Figure size 360x360 with 1 Axes>"
      ]
     },
     "metadata": {
      "needs_background": "light"
     },
     "output_type": "display_data"
    }
   ],
   "source": [
    "# Plot data and regression model / temperature - total goals\n",
    "sns.lmplot(x='temperature', y='total_goals', data=final_data, fit_reg=True)"
   ]
  },
  {
   "cell_type": "code",
   "execution_count": 9,
   "metadata": {},
   "outputs": [
    {
     "data": {
      "text/plain": [
       "<seaborn.axisgrid.FacetGrid at 0x2206373fd30>"
      ]
     },
     "execution_count": 9,
     "metadata": {},
     "output_type": "execute_result"
    },
    {
     "data": {
      "image/png": "[encoded data removed]",
      "text/plain": [
       "<Figure size 360x360 with 1 Axes>"
      ]
     },
     "metadata": {
      "needs_background": "light"
     },
     "output_type": "display_data"
    }
   ],
   "source": [
    "# Plot data and regression model / wind speed - total goals\n",
    "sns.lmplot(x='wind_speed', y='total_goals', data=final_data, fit_reg=True)"
   ]
  },
  {
   "cell_type": "code",
   "execution_count": 10,
   "metadata": {},
   "outputs": [
    {
     "data": {
      "text/plain": [
       "<seaborn.axisgrid.FacetGrid at 0x2206381c130>"
      ]
     },
     "execution_count": 10,
     "metadata": {},
     "output_type": "execute_result"
    },
    {
     "data": {
      "image/png": "[encoded data removed]",
      "text/plain": [
       "<Figure size 360x360 with 1 Axes>"
      ]
     },
     "metadata": {
      "needs_background": "light"
     },
     "output_type": "display_data"
    }
   ],
   "source": [
    "# Plot data and regression model / humidity - total goals\n",
    "sns.lmplot(x='humidity', y='total_goals', data=final_data, fit_reg=True)"
   ]
  },
  {
   "cell_type": "code",
   "execution_count": 11,
   "metadata": {},
   "outputs": [
    {
     "data": {
      "text/html": [
       "<div>\n",
       "<style scoped>\n",
       "    .dataframe tbody tr th:only-of-type {\n",
       "        vertical-align: middle;\n",
       "    }\n",
       "\n",
       "    .dataframe tbody tr th {\n",
       "        vertical-align: top;\n",
       "    }\n",
       "\n",
       "    .dataframe thead th {\n",
       "        text-align: right;\n",
       "    }\n",
       "</style>\n",
       "<table border=\"1\" class=\"dataframe\">\n",
       "  <thead>\n",
       "    <tr style=\"text-align: right;\">\n",
       "      <th></th>\n",
       "      <th>temperature</th>\n",
       "      <th>wind_speed</th>\n",
       "      <th>humidity</th>\n",
       "      <th>total_goals</th>\n",
       "    </tr>\n",
       "  </thead>\n",
       "  <tbody>\n",
       "    <tr>\n",
       "      <th>temperature</th>\n",
       "      <td>1.000000</td>\n",
       "      <td>-0.060573</td>\n",
       "      <td>-0.559131</td>\n",
       "      <td>0.036451</td>\n",
       "    </tr>\n",
       "    <tr>\n",
       "      <th>wind_speed</th>\n",
       "      <td>-0.060573</td>\n",
       "      <td>1.000000</td>\n",
       "      <td>0.003617</td>\n",
       "      <td>-0.021495</td>\n",
       "    </tr>\n",
       "    <tr>\n",
       "      <th>humidity</th>\n",
       "      <td>-0.559131</td>\n",
       "      <td>0.003617</td>\n",
       "      <td>1.000000</td>\n",
       "      <td>-0.078114</td>\n",
       "    </tr>\n",
       "    <tr>\n",
       "      <th>total_goals</th>\n",
       "      <td>0.036451</td>\n",
       "      <td>-0.021495</td>\n",
       "      <td>-0.078114</td>\n",
       "      <td>1.000000</td>\n",
       "    </tr>\n",
       "  </tbody>\n",
       "</table>\n",
       "</div>"
      ],
      "text/plain": [
       "             temperature  wind_speed  humidity  total_goals\n",
       "temperature     1.000000   -0.060573 -0.559131     0.036451\n",
       "wind_speed     -0.060573    1.000000  0.003617    -0.021495\n",
       "humidity       -0.559131    0.003617  1.000000    -0.078114\n",
       "total_goals     0.036451   -0.021495 -0.078114     1.000000"
      ]
     },
     "execution_count": 11,
     "metadata": {},
     "output_type": "execute_result"
    }
   ],
   "source": [
    "# Calculate the pearson correlation coefficent \n",
    "final_data.corr(method='pearson')"
   ]
  },
  {
   "cell_type": "code",
   "execution_count": 12,
   "metadata": {},
   "outputs": [
    {
     "data": {
      "text/html": [
       "<div>\n",
       "<style scoped>\n",
       "    .dataframe tbody tr th:only-of-type {\n",
       "        vertical-align: middle;\n",
       "    }\n",
       "\n",
       "    .dataframe tbody tr th {\n",
       "        vertical-align: top;\n",
       "    }\n",
       "\n",
       "    .dataframe thead th {\n",
       "        text-align: right;\n",
       "    }\n",
       "</style>\n",
       "<table border=\"1\" class=\"dataframe\">\n",
       "  <thead>\n",
       "    <tr style=\"text-align: right;\">\n",
       "      <th></th>\n",
       "      <th>temperature</th>\n",
       "      <th>wind_speed</th>\n",
       "      <th>humidity</th>\n",
       "      <th>total_goals</th>\n",
       "    </tr>\n",
       "  </thead>\n",
       "  <tbody>\n",
       "    <tr>\n",
       "      <th>temperature</th>\n",
       "      <td>1.000000</td>\n",
       "      <td>0.002575</td>\n",
       "      <td>-0.369032</td>\n",
       "      <td>0.027220</td>\n",
       "    </tr>\n",
       "    <tr>\n",
       "      <th>wind_speed</th>\n",
       "      <td>0.002575</td>\n",
       "      <td>1.000000</td>\n",
       "      <td>-0.034555</td>\n",
       "      <td>-0.014821</td>\n",
       "    </tr>\n",
       "    <tr>\n",
       "      <th>humidity</th>\n",
       "      <td>-0.369032</td>\n",
       "      <td>-0.034555</td>\n",
       "      <td>1.000000</td>\n",
       "      <td>-0.046028</td>\n",
       "    </tr>\n",
       "    <tr>\n",
       "      <th>total_goals</th>\n",
       "      <td>0.027220</td>\n",
       "      <td>-0.014821</td>\n",
       "      <td>-0.046028</td>\n",
       "      <td>1.000000</td>\n",
       "    </tr>\n",
       "  </tbody>\n",
       "</table>\n",
       "</div>"
      ],
      "text/plain": [
       "             temperature  wind_speed  humidity  total_goals\n",
       "temperature     1.000000    0.002575 -0.369032     0.027220\n",
       "wind_speed      0.002575    1.000000 -0.034555    -0.014821\n",
       "humidity       -0.369032   -0.034555  1.000000    -0.046028\n",
       "total_goals     0.027220   -0.014821 -0.046028     1.000000"
      ]
     },
     "execution_count": 12,
     "metadata": {},
     "output_type": "execute_result"
    }
   ],
   "source": [
    "# Calculate the kendall correlation coefficent \n",
    "final_data.corr(method='kendall')"
   ]
  },
  {
   "cell_type": "code",
   "execution_count": 13,
   "metadata": {},
   "outputs": [
    {
     "data": {
      "text/html": [
       "<div>\n",
       "<style scoped>\n",
       "    .dataframe tbody tr th:only-of-type {\n",
       "        vertical-align: middle;\n",
       "    }\n",
       "\n",
       "    .dataframe tbody tr th {\n",
       "        vertical-align: top;\n",
       "    }\n",
       "\n",
       "    .dataframe thead th {\n",
       "        text-align: right;\n",
       "    }\n",
       "</style>\n",
       "<table border=\"1\" class=\"dataframe\">\n",
       "  <thead>\n",
       "    <tr style=\"text-align: right;\">\n",
       "      <th></th>\n",
       "      <th>temperature</th>\n",
       "      <th>wind_speed</th>\n",
       "      <th>humidity</th>\n",
       "      <th>total_goals</th>\n",
       "    </tr>\n",
       "  </thead>\n",
       "  <tbody>\n",
       "    <tr>\n",
       "      <th>temperature</th>\n",
       "      <td>1.000000</td>\n",
       "      <td>0.023604</td>\n",
       "      <td>-0.518947</td>\n",
       "      <td>0.037667</td>\n",
       "    </tr>\n",
       "    <tr>\n",
       "      <th>wind_speed</th>\n",
       "      <td>0.023604</td>\n",
       "      <td>1.000000</td>\n",
       "      <td>-0.056073</td>\n",
       "      <td>-0.018211</td>\n",
       "    </tr>\n",
       "    <tr>\n",
       "      <th>humidity</th>\n",
       "      <td>-0.518947</td>\n",
       "      <td>-0.056073</td>\n",
       "      <td>1.000000</td>\n",
       "      <td>-0.062755</td>\n",
       "    </tr>\n",
       "    <tr>\n",
       "      <th>total_goals</th>\n",
       "      <td>0.037667</td>\n",
       "      <td>-0.018211</td>\n",
       "      <td>-0.062755</td>\n",
       "      <td>1.000000</td>\n",
       "    </tr>\n",
       "  </tbody>\n",
       "</table>\n",
       "</div>"
      ],
      "text/plain": [
       "             temperature  wind_speed  humidity  total_goals\n",
       "temperature     1.000000    0.023604 -0.518947     0.037667\n",
       "wind_speed      0.023604    1.000000 -0.056073    -0.018211\n",
       "humidity       -0.518947   -0.056073  1.000000    -0.062755\n",
       "total_goals     0.037667   -0.018211 -0.062755     1.000000"
      ]
     },
     "execution_count": 13,
     "metadata": {},
     "output_type": "execute_result"
    }
   ],
   "source": [
    "# Calculate the spearman correlation coefficent \n",
    "final_data.corr(method='spearman')"
   ]
  },
  {
   "cell_type": "code",
   "execution_count": 14,
   "metadata": {},
   "outputs": [
    {
     "data": {
      "text/html": [
       "<div>\n",
       "<style scoped>\n",
       "    .dataframe tbody tr th:only-of-type {\n",
       "        vertical-align: middle;\n",
       "    }\n",
       "\n",
       "    .dataframe tbody tr th {\n",
       "        vertical-align: top;\n",
       "    }\n",
       "\n",
       "    .dataframe thead th {\n",
       "        text-align: right;\n",
       "    }\n",
       "</style>\n",
       "<table border=\"1\" class=\"dataframe\">\n",
       "  <thead>\n",
       "    <tr style=\"text-align: right;\">\n",
       "      <th></th>\n",
       "      <th>temperature</th>\n",
       "      <th>wind_speed</th>\n",
       "      <th>humidity</th>\n",
       "      <th>average_goals</th>\n",
       "    </tr>\n",
       "    <tr>\n",
       "      <th>weather</th>\n",
       "      <th></th>\n",
       "      <th></th>\n",
       "      <th></th>\n",
       "      <th></th>\n",
       "    </tr>\n",
       "  </thead>\n",
       "  <tbody>\n",
       "    <tr>\n",
       "      <th>Thunder</th>\n",
       "      <td>1.667500</td>\n",
       "      <td>9.820949</td>\n",
       "      <td>72.000000</td>\n",
       "      <td>1.000000</td>\n",
       "    </tr>\n",
       "    <tr>\n",
       "      <th>Heavy Rain</th>\n",
       "      <td>11.061667</td>\n",
       "      <td>8.786849</td>\n",
       "      <td>81.711111</td>\n",
       "      <td>2.533333</td>\n",
       "    </tr>\n",
       "    <tr>\n",
       "      <th>Light Rain</th>\n",
       "      <td>12.472368</td>\n",
       "      <td>9.446621</td>\n",
       "      <td>78.947368</td>\n",
       "      <td>2.649123</td>\n",
       "    </tr>\n",
       "    <tr>\n",
       "      <th>Heavy Cloud</th>\n",
       "      <td>12.165706</td>\n",
       "      <td>7.386689</td>\n",
       "      <td>74.141176</td>\n",
       "      <td>2.694118</td>\n",
       "    </tr>\n",
       "    <tr>\n",
       "      <th>Light Cloud</th>\n",
       "      <td>13.396061</td>\n",
       "      <td>5.576665</td>\n",
       "      <td>68.121212</td>\n",
       "      <td>2.787879</td>\n",
       "    </tr>\n",
       "    <tr>\n",
       "      <th>Clear</th>\n",
       "      <td>17.776750</td>\n",
       "      <td>5.058983</td>\n",
       "      <td>65.150000</td>\n",
       "      <td>2.850000</td>\n",
       "    </tr>\n",
       "    <tr>\n",
       "      <th>Showers</th>\n",
       "      <td>13.868955</td>\n",
       "      <td>6.992050</td>\n",
       "      <td>73.119403</td>\n",
       "      <td>2.925373</td>\n",
       "    </tr>\n",
       "  </tbody>\n",
       "</table>\n",
       "</div>"
      ],
      "text/plain": [
       "             temperature  wind_speed   humidity  average_goals\n",
       "weather                                                       \n",
       "Thunder         1.667500    9.820949  72.000000       1.000000\n",
       "Heavy Rain     11.061667    8.786849  81.711111       2.533333\n",
       "Light Rain     12.472368    9.446621  78.947368       2.649123\n",
       "Heavy Cloud    12.165706    7.386689  74.141176       2.694118\n",
       "Light Cloud    13.396061    5.576665  68.121212       2.787879\n",
       "Clear          17.776750    5.058983  65.150000       2.850000\n",
       "Showers        13.868955    6.992050  73.119403       2.925373"
      ]
     },
     "execution_count": 14,
     "metadata": {},
     "output_type": "execute_result"
    }
   ],
   "source": [
    "# Average values by weather\n",
    "final_visual = final_data.groupby(['weather']).mean().sort_values(by=['total_goals'])\n",
    "final_visual.rename(columns = {'total_goals' : 'average_goals'}, inplace = True)\n",
    "final_visual"
   ]
  },
  {
   "cell_type": "code",
   "execution_count": 15,
   "metadata": {},
   "outputs": [
    {
     "data": {
      "text/plain": [
       "<matplotlib.axes._subplots.AxesSubplot at 0x220638cd8e0>"
      ]
     },
     "execution_count": 15,
     "metadata": {},
     "output_type": "execute_result"
    },
    {
     "data": {
      "image/png": "[encoded data removed]",
      "text/plain": [
       "<Figure size 432x288 with 1 Axes>"
      ]
     },
     "metadata": {
      "needs_background": "light"
     },
     "output_type": "display_data"
    }
   ],
   "source": [
    "# Average goals by weather / bar chart\n",
    "final_visual.plot.bar(y='average_goals')"
   ]
  },
  {
   "cell_type": "code",
   "execution_count": 16,
   "metadata": {},
   "outputs": [
    {
     "data": {
      "text/plain": [
       "Heavy Cloud    85\n",
       "Showers        67\n",
       "Light Cloud    66\n",
       "Light Rain     57\n",
       "Heavy Rain     45\n",
       "Clear          20\n",
       "Thunder         2\n",
       "Name: weather, dtype: int64"
      ]
     },
     "execution_count": 16,
     "metadata": {},
     "output_type": "execute_result"
    }
   ],
   "source": [
    "# Let's see if each category has enough data\n",
    "final_data['weather'].value_counts()"
   ]
  },
  {
   "cell_type": "code",
   "execution_count": null,
   "metadata": {},
   "outputs": [],
   "source": []
  }
 ],
 "metadata": {
  "kernelspec": {
   "display_name": "Python 3",
   "language": "python",
   "name": "python3"
  },
  "language_info": {
   "codemirror_mode": {
    "name": "ipython",
    "version": 3
   },
   "file_extension": ".py",
   "mimetype": "text/x-python",
   "name": "python",
   "nbconvert_exporter": "python",
   "pygments_lexer": "ipython3",
   "version": "3.8.3"
  }
 },
 "nbformat": 4,
 "nbformat_minor": 4
}
